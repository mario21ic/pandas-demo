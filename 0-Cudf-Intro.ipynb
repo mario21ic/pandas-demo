{
 "cells": [
  {
   "cell_type": "code",
   "execution_count": null,
   "id": "unique-seminar",
   "metadata": {},
   "outputs": [],
   "source": [
    "%config IPCompleter.greedy=True\n"
   ]
  },
  {
   "cell_type": "code",
   "execution_count": null,
   "id": "adaptive-merchandise",
   "metadata": {},
   "outputs": [],
   "source": [
    "# import requests\n",
    "\n",
    "# download_url = \"https://raw.githubusercontent.com/fivethirtyeight/data/master/nba-elo/nbaallelo.csv\"\n",
    "# target_csv_path = \"nba_all_elo.csv\"\n",
    "\n",
    "# response = requests.get(download_url)\n",
    "# response.raise_for_status()    # Check that the request was successful\n",
    "# with open(target_csv_path, \"wb\") as f:\n",
    "#     f.write(response.content)\n",
    "# print(\"Download ready.\")"
   ]
  },
  {
   "cell_type": "code",
   "execution_count": 2,
   "id": "improved-belgium",
   "metadata": {},
   "outputs": [
    {
     "name": "stdout",
     "output_type": "stream",
     "text": [
      "CPU times: user 3.04 ms, sys: 0 ns, total: 3.04 ms\n",
      "Wall time: 2.04 ms\n"
     ]
    },
    {
     "data": {
      "text/html": [
       "<div>\n",
       "<style scoped>\n",
       "    .dataframe tbody tr th:only-of-type {\n",
       "        vertical-align: middle;\n",
       "    }\n",
       "\n",
       "    .dataframe tbody tr th {\n",
       "        vertical-align: top;\n",
       "    }\n",
       "\n",
       "    .dataframe thead th {\n",
       "        text-align: right;\n",
       "    }\n",
       "</style>\n",
       "<table border=\"1\" class=\"dataframe\">\n",
       "  <thead>\n",
       "    <tr style=\"text-align: right;\">\n",
       "      <th></th>\n",
       "      <th>key</th>\n",
       "      <th>val</th>\n",
       "    </tr>\n",
       "  </thead>\n",
       "  <tbody>\n",
       "    <tr>\n",
       "      <th>0</th>\n",
       "      <td>0</td>\n",
       "      <td>10.0</td>\n",
       "    </tr>\n",
       "    <tr>\n",
       "      <th>1</th>\n",
       "      <td>1</td>\n",
       "      <td>11.0</td>\n",
       "    </tr>\n",
       "    <tr>\n",
       "      <th>2</th>\n",
       "      <td>2</td>\n",
       "      <td>12.0</td>\n",
       "    </tr>\n",
       "    <tr>\n",
       "      <th>3</th>\n",
       "      <td>3</td>\n",
       "      <td>13.0</td>\n",
       "    </tr>\n",
       "    <tr>\n",
       "      <th>4</th>\n",
       "      <td>4</td>\n",
       "      <td>14.0</td>\n",
       "    </tr>\n",
       "  </tbody>\n",
       "</table>\n",
       "</div>"
      ],
      "text/plain": [
       "   key   val\n",
       "0    0  10.0\n",
       "1    1  11.0\n",
       "2    2  12.0\n",
       "3    3  13.0\n",
       "4    4  14.0"
      ]
     },
     "execution_count": 2,
     "metadata": {},
     "output_type": "execute_result"
    }
   ],
   "source": [
    "%%time\n",
    "import cudf\n",
    "df = cudf.DataFrame()\n",
    "df['key'] = [0, 1, 2, 3, 4]\n",
    "df['val'] = [float(i + 10) for i in range(5)]  # insert column\n",
    "df"
   ]
  },
  {
   "cell_type": "code",
   "execution_count": 3,
   "id": "linear-lambda",
   "metadata": {},
   "outputs": [
    {
     "data": {
      "text/plain": [
       "cudf.core.dataframe.DataFrame"
      ]
     },
     "execution_count": 3,
     "metadata": {},
     "output_type": "execute_result"
    }
   ],
   "source": [
    "import cudf\n",
    "\n",
    "nba = cudf.read_csv(\"nba_all_elo.csv\")\n",
    "type(nba)"
   ]
  },
  {
   "cell_type": "code",
   "execution_count": 4,
   "id": "liquid-detective",
   "metadata": {},
   "outputs": [
    {
     "data": {
      "text/plain": [
       "(0, 2778573)"
      ]
     },
     "execution_count": 4,
     "metadata": {},
     "output_type": "execute_result"
    }
   ],
   "source": [
    "# how much data \"nba\" contains\n",
    "#len(nba)\n",
    "nba.shape\n",
    "# rows, columns"
   ]
  },
  {
   "cell_type": "code",
   "execution_count": 5,
   "id": "subtle-government",
   "metadata": {},
   "outputs": [
    {
     "data": {
      "text/html": [
       "<div>\n",
       "<style scoped>\n",
       "    .dataframe tbody tr th:only-of-type {\n",
       "        vertical-align: middle;\n",
       "    }\n",
       "\n",
       "    .dataframe tbody tr th {\n",
       "        vertical-align: top;\n",
       "    }\n",
       "\n",
       "    .dataframe thead th {\n",
       "        text-align: right;\n",
       "    }\n",
       "</style>\n",
       "<table border=\"1\" class=\"dataframe\">\n",
       "  <thead>\n",
       "    <tr style=\"text-align: right;\">\n",
       "      <th></th>\n",
       "      <th>gameorder</th>\n",
       "      <th>game_id</th>\n",
       "      <th>lg_id</th>\n",
       "      <th>_iscopy</th>\n",
       "      <th>year_id</th>\n",
       "      <th>date_game</th>\n",
       "      <th>seasongame</th>\n",
       "      <th>is_playoffs</th>\n",
       "      <th>team_id</th>\n",
       "      <th>fran_id</th>\n",
       "      <th>...</th>\n",
       "      <th>1822.2881.1</th>\n",
       "      <th>68.519516</th>\n",
       "      <th>CLE.7619</th>\n",
       "      <th>Cavaliers.7619</th>\n",
       "      <th>97.6603</th>\n",
       "      <th>1700.7391.3</th>\n",
       "      <th>1692.0859.1</th>\n",
       "      <th>A.63137</th>\n",
       "      <th>W.63156</th>\n",
       "      <th>0.51854992</th>\n",
       "    </tr>\n",
       "  </thead>\n",
       "  <tbody>\n",
       "  </tbody>\n",
       "</table>\n",
       "<p>0 rows × 2778573 columns</p>\n",
       "</div>"
      ],
      "text/plain": [
       "Empty DataFrame\n",
       "Columns: [gameorder, game_id, lg_id, _iscopy, year_id, date_game, seasongame, is_playoffs, team_id, fran_id, pts, 1822.2881.1, 68.519516, CLE.7619, Cavaliers.7619, 97.6603, 1700.7391.3, 1692.0859.1, A.63137, W.63156, 0.51854992]\n",
       "Index: []\n",
       "\n",
       "[0 rows x 2778573 columns]"
      ]
     },
     "execution_count": 5,
     "metadata": {},
     "output_type": "execute_result"
    }
   ],
   "source": [
    "#nba.head() # 5\n",
    "nba.head(3)"
   ]
  },
  {
   "cell_type": "code",
   "execution_count": null,
   "id": "interim-planning",
   "metadata": {},
   "outputs": [],
   "source": [
    "# Pandas Options\n",
    "pd.set_option(\"display.precision\", 2)\n",
    "pd.set_option(\"display.max.columns\", None)\n",
    "\n",
    "# nba.tail(3) # five\n",
    "nba.tail(3)"
   ]
  },
  {
   "cell_type": "code",
   "execution_count": null,
   "id": "transsexual-cooling",
   "metadata": {},
   "outputs": [],
   "source": [
    "# Displaying data types\n",
    "nba.info()"
   ]
  },
  {
   "cell_type": "code",
   "execution_count": null,
   "id": "cheap-edinburgh",
   "metadata": {},
   "outputs": [],
   "source": [
    "# showing basics statistics, but only numeric columns\n",
    "nba.describe()"
   ]
  },
  {
   "cell_type": "code",
   "execution_count": null,
   "id": "numerical-georgia",
   "metadata": {},
   "outputs": [],
   "source": [
    "# include other data\n",
    "import numpy as np\n",
    "nba.describe(include=np.object)"
   ]
  },
  {
   "cell_type": "code",
   "execution_count": null,
   "id": "bright-hobby",
   "metadata": {},
   "outputs": [],
   "source": [
    "nba['team_id'].value_counts()"
   ]
  },
  {
   "cell_type": "code",
   "execution_count": null,
   "id": "special-judge",
   "metadata": {},
   "outputs": [],
   "source": [
    "nba['fran_id'].value_counts()"
   ]
  },
  {
   "cell_type": "code",
   "execution_count": null,
   "id": "everyday-singapore",
   "metadata": {},
   "outputs": [],
   "source": [
    "nba.loc[nba['fran_id'] == 'Lakers', 'team_id'].value_counts()"
   ]
  },
  {
   "cell_type": "code",
   "execution_count": null,
   "id": "driving-initial",
   "metadata": {},
   "outputs": [],
   "source": [
    "nba.loc[nba[\"team_id\"] == \"MNL\", \"date_game\"].min()"
   ]
  },
  {
   "cell_type": "code",
   "execution_count": null,
   "id": "still-apparatus",
   "metadata": {},
   "outputs": [],
   "source": [
    "nba.loc[nba[\"team_id\"] == \"MNL\", \"date_game\"].max()"
   ]
  },
  {
   "cell_type": "code",
   "execution_count": null,
   "id": "incident-springer",
   "metadata": {},
   "outputs": [],
   "source": [
    "nba.loc[nba[\"team_id\"] == \"MNL\", \"date_game\"].agg((\"min\", \"max\"))"
   ]
  },
  {
   "cell_type": "code",
   "execution_count": null,
   "id": "printable-tuesday",
   "metadata": {},
   "outputs": [],
   "source": [
    "nba.loc[nba[\"team_id\"] == \"BOS\", \"pts\"].sum()"
   ]
  },
  {
   "cell_type": "code",
   "execution_count": null,
   "id": "corresponding-arctic",
   "metadata": {},
   "outputs": [],
   "source": [
    "# Getting to Know Pandas’ Data Structures\n",
    "revenues = pd.Series([5555, 7000, 1980])\n",
    "revenues"
   ]
  },
  {
   "cell_type": "code",
   "execution_count": null,
   "id": "collective-sudan",
   "metadata": {},
   "outputs": [],
   "source": [
    "print(revenues.values)\n",
    "print(revenues.index)"
   ]
  },
  {
   "cell_type": "code",
   "execution_count": null,
   "id": "critical-netscape",
   "metadata": {},
   "outputs": [],
   "source": [
    "type(revenues.values)"
   ]
  },
  {
   "cell_type": "code",
   "execution_count": null,
   "id": "superb-style",
   "metadata": {},
   "outputs": [],
   "source": [
    "# Explicit index\n",
    "city_revenues = pd.Series(\n",
    "    [4200, 8000, 6500],\n",
    "    index=['Amsterdam', 'Toronto', 'Tokyo']\n",
    ")\n",
    "city_revenues"
   ]
  },
  {
   "cell_type": "code",
   "execution_count": null,
   "id": "sorted-denmark",
   "metadata": {},
   "outputs": [],
   "source": [
    "city_employee_count = pd.Series({\"Amsterdam\": 5, \"Tokyo\": 8})\n",
    "city_employee_count"
   ]
  },
  {
   "cell_type": "code",
   "execution_count": null,
   "id": "surrounded-opposition",
   "metadata": {},
   "outputs": [],
   "source": [
    "city_employee_count.keys()"
   ]
  },
  {
   "cell_type": "code",
   "execution_count": null,
   "id": "rising-feeling",
   "metadata": {},
   "outputs": [],
   "source": [
    "\"Tokyo\" in city_employee_count"
   ]
  },
  {
   "cell_type": "code",
   "execution_count": null,
   "id": "reserved-warning",
   "metadata": {},
   "outputs": [],
   "source": [
    "\"New York\" in city_employee_count"
   ]
  },
  {
   "cell_type": "code",
   "execution_count": null,
   "id": "limited-artist",
   "metadata": {},
   "outputs": [],
   "source": [
    "city_data = pd.DataFrame({\n",
    "    \"revenue\": city_revenues,\n",
    "    \"employee_count\": city_employee_count\n",
    "})\n",
    "city_data"
   ]
  },
  {
   "cell_type": "code",
   "execution_count": null,
   "id": "disabled-choice",
   "metadata": {},
   "outputs": [],
   "source": [
    "city_data.index"
   ]
  },
  {
   "cell_type": "code",
   "execution_count": null,
   "id": "cubic-combat",
   "metadata": {},
   "outputs": [],
   "source": [
    "city_data.values"
   ]
  },
  {
   "cell_type": "code",
   "execution_count": null,
   "id": "quiet-transaction",
   "metadata": {},
   "outputs": [],
   "source": [
    "city_data.axes"
   ]
  },
  {
   "cell_type": "code",
   "execution_count": null,
   "id": "selective-lithuania",
   "metadata": {},
   "outputs": [],
   "source": [
    "city_data.axes[0]"
   ]
  },
  {
   "cell_type": "code",
   "execution_count": null,
   "id": "married-replacement",
   "metadata": {},
   "outputs": [],
   "source": [
    "city_data.axes[1]"
   ]
  },
  {
   "cell_type": "code",
   "execution_count": null,
   "id": "fluid-monitor",
   "metadata": {},
   "outputs": [],
   "source": [
    "city_data.keys()"
   ]
  },
  {
   "cell_type": "code",
   "execution_count": null,
   "id": "norman-clothing",
   "metadata": {},
   "outputs": [],
   "source": [
    "nba.index\n",
    "nba.axes\n",
    "\"points\" in nba.keys()\n",
    "\"pts\" in nba.keys()"
   ]
  },
  {
   "cell_type": "code",
   "execution_count": null,
   "id": "solved-woman",
   "metadata": {},
   "outputs": [],
   "source": [
    "# Accessing Series Elements\n",
    "city_revenues"
   ]
  },
  {
   "cell_type": "code",
   "execution_count": null,
   "id": "brave-biotechnology",
   "metadata": {},
   "outputs": [],
   "source": [
    "print(city_revenues[\"Toronto\"])\n",
    "print(city_revenues[1])"
   ]
  },
  {
   "cell_type": "code",
   "execution_count": null,
   "id": "composite-chester",
   "metadata": {},
   "outputs": [],
   "source": [
    "city_revenues[-1]\n",
    "city_revenues[1:]\n",
    "city_revenues[\"Toronto\":]"
   ]
  },
  {
   "cell_type": "code",
   "execution_count": null,
   "id": "blocked-taiwan",
   "metadata": {},
   "outputs": [],
   "source": [
    "colors = pd.Series(\n",
    "    [\"red\", \"purple\", \"blue\", \"green\", \"yellow\"],\n",
    "    index=[1, 2, 3, 5, 8]\n",
    ")\n",
    "colors"
   ]
  },
  {
   "cell_type": "code",
   "execution_count": null,
   "id": "trying-amber",
   "metadata": {},
   "outputs": [],
   "source": [
    "colors.loc[1]"
   ]
  },
  {
   "cell_type": "code",
   "execution_count": null,
   "id": "static-extreme",
   "metadata": {},
   "outputs": [],
   "source": [
    "colors.iloc[1]"
   ]
  },
  {
   "cell_type": "code",
   "execution_count": null,
   "id": "common-recommendation",
   "metadata": {},
   "outputs": [],
   "source": [
    "colors.iloc[1:3]"
   ]
  },
  {
   "cell_type": "code",
   "execution_count": null,
   "id": "breeding-anatomy",
   "metadata": {},
   "outputs": [],
   "source": [
    "colors.iloc[3:8]"
   ]
  },
  {
   "cell_type": "code",
   "execution_count": null,
   "id": "hybrid-browser",
   "metadata": {},
   "outputs": [],
   "source": [
    "colors.iloc[-2]"
   ]
  },
  {
   "cell_type": "code",
   "execution_count": null,
   "id": "universal-substitute",
   "metadata": {},
   "outputs": [],
   "source": [
    "# Accessing DataFrame Elements\n",
    "city_data[\"revenue\"]"
   ]
  },
  {
   "cell_type": "code",
   "execution_count": null,
   "id": "sealed-interpretation",
   "metadata": {},
   "outputs": [],
   "source": [
    "type(city_data[\"revenue\"])"
   ]
  },
  {
   "cell_type": "code",
   "execution_count": null,
   "id": "intermediate-chambers",
   "metadata": {},
   "outputs": [],
   "source": [
    "city_data.revenue"
   ]
  },
  {
   "cell_type": "code",
   "execution_count": null,
   "id": "possible-gazette",
   "metadata": {},
   "outputs": [],
   "source": [
    "toys = pd.DataFrame([\n",
    "    {\"name\": \"ball\", \"shape\": \"sphere\"},\n",
    "    {\"name\": \"Rubik's cube\", \"shape\": \"cube\"}\n",
    "])\n",
    "toys"
   ]
  },
  {
   "cell_type": "code",
   "execution_count": null,
   "id": "hispanic-explosion",
   "metadata": {},
   "outputs": [],
   "source": [
    "toys[\"shape\"]"
   ]
  },
  {
   "cell_type": "code",
   "execution_count": null,
   "id": "level-terminal",
   "metadata": {},
   "outputs": [],
   "source": [
    "toys.shape"
   ]
  },
  {
   "cell_type": "code",
   "execution_count": null,
   "id": "obvious-mechanics",
   "metadata": {},
   "outputs": [],
   "source": [
    "city_data.loc[\"Amsterdam\"]"
   ]
  },
  {
   "cell_type": "code",
   "execution_count": null,
   "id": "electoral-lease",
   "metadata": {},
   "outputs": [],
   "source": [
    "city_data.loc[\"Tokyo\": \"Toronto\"]"
   ]
  },
  {
   "cell_type": "code",
   "execution_count": null,
   "id": "associate-sixth",
   "metadata": {},
   "outputs": [],
   "source": [
    "city_data.loc[\"Tokyo\": \"Toronto\"][\"employee_count\"]"
   ]
  },
  {
   "cell_type": "code",
   "execution_count": null,
   "id": "chicken-highlight",
   "metadata": {},
   "outputs": [],
   "source": [
    "city_data.iloc[1]"
   ]
  },
  {
   "cell_type": "code",
   "execution_count": null,
   "id": "simple-commander",
   "metadata": {},
   "outputs": [],
   "source": [
    "nba.loc[5555:5559, [\"fran_id\", \"opp_fran\", \"pts\", \"opp_pts\"]]"
   ]
  },
  {
   "cell_type": "code",
   "execution_count": null,
   "id": "automotive-liver",
   "metadata": {},
   "outputs": [],
   "source": [
    "# Querying Your Dataset\n",
    "current_decade = nba[nba[\"year_id\"] > 2010]\n",
    "#current_decade.head()\n",
    "current_decade.shape"
   ]
  },
  {
   "cell_type": "code",
   "execution_count": null,
   "id": "plain-sucking",
   "metadata": {},
   "outputs": [],
   "source": [
    "games_with_notes = nba[nba[\"notes\"].notnull()]\n",
    "games_with_notes.shape"
   ]
  },
  {
   "cell_type": "code",
   "execution_count": null,
   "id": "obvious-minneapolis",
   "metadata": {},
   "outputs": [],
   "source": [
    "ers = nba[nba[\"fran_id\"].str.endswith(\"ers\")]\n",
    "ers.shape"
   ]
  },
  {
   "cell_type": "code",
   "execution_count": null,
   "id": "romantic-worth",
   "metadata": {},
   "outputs": [],
   "source": [
    "nba[\n",
    "    (nba[\"_iscopy\"] == 0) &\n",
    "    (nba[\"pts\"] > 100) &\n",
    "    (nba[\"opp_pts\"] > 100) &\n",
    "    (nba[\"team_id\"] == \"BLB\")\n",
    "]"
   ]
  },
  {
   "cell_type": "code",
   "execution_count": null,
   "id": "oriented-brooklyn",
   "metadata": {},
   "outputs": [],
   "source": [
    "nba[\n",
    "    (nba[\"_iscopy\"] == 0) &\n",
    "    (nba[\"team_id\"].str.startswith(\"LA\")) &\n",
    "    (nba[\"year_id\"]==1992) &\n",
    "    (nba[\"notes\"].notnull())\n",
    "]"
   ]
  },
  {
   "cell_type": "code",
   "execution_count": null,
   "id": "accompanied-module",
   "metadata": {},
   "outputs": [],
   "source": [
    "# Grouping and Aggregating Your Data\n",
    "city_revenues.sum()"
   ]
  },
  {
   "cell_type": "code",
   "execution_count": null,
   "id": "retained-collapse",
   "metadata": {},
   "outputs": [],
   "source": [
    "city_revenues.max()"
   ]
  },
  {
   "cell_type": "code",
   "execution_count": null,
   "id": "wired-settle",
   "metadata": {},
   "outputs": [],
   "source": [
    "points = nba[\"pts\"]\n",
    "print(type(points))\n",
    "points.sum()"
   ]
  },
  {
   "cell_type": "code",
   "execution_count": null,
   "id": "wireless-kingston",
   "metadata": {},
   "outputs": [],
   "source": [
    "nba.groupby(\"fran_id\", sort=False)[\"pts\"].sum()"
   ]
  },
  {
   "cell_type": "code",
   "execution_count": null,
   "id": "material-water",
   "metadata": {},
   "outputs": [],
   "source": [
    "nba[\n",
    "    (nba[\"fran_id\"] == \"Spurs\") &\n",
    "    (nba[\"year_id\"] > 2010)\n",
    "].groupby([\"year_id\", \"game_result\"])[\"game_id\"].count()"
   ]
  },
  {
   "cell_type": "code",
   "execution_count": null,
   "id": "similar-methodology",
   "metadata": {},
   "outputs": [],
   "source": [
    "nba[\n",
    "    (nba[\"fran_id\"] == \"Warriors\") &\n",
    "    (nba[\"year_id\"] == 2015)\n",
    "].groupby([\"is_playoffs\", \"game_result\"])[\"game_id\"].count()"
   ]
  },
  {
   "cell_type": "code",
   "execution_count": null,
   "id": "genuine-puppy",
   "metadata": {},
   "outputs": [],
   "source": [
    "# Manipulating Columns\n",
    "df = nba.copy()\n",
    "df.shape"
   ]
  },
  {
   "cell_type": "code",
   "execution_count": null,
   "id": "passing-backup",
   "metadata": {},
   "outputs": [],
   "source": [
    "df[\"difference\"] = df.pts - df.opp_pts\n",
    "df.shape"
   ]
  },
  {
   "cell_type": "code",
   "execution_count": null,
   "id": "romantic-links",
   "metadata": {},
   "outputs": [],
   "source": [
    "df[\"difference\"].max()"
   ]
  },
  {
   "cell_type": "code",
   "execution_count": null,
   "id": "hazardous-agent",
   "metadata": {},
   "outputs": [],
   "source": [
    "renamed_df = df.rename(\n",
    "    columns={\"game_result\": \"result\", \"game_location\": \"location\"}\n",
    ")\n",
    "renamed_df.info()"
   ]
  },
  {
   "cell_type": "code",
   "execution_count": null,
   "id": "gentle-timing",
   "metadata": {},
   "outputs": [],
   "source": [
    "df.shape"
   ]
  },
  {
   "cell_type": "code",
   "execution_count": null,
   "id": "combined-rogers",
   "metadata": {},
   "outputs": [],
   "source": [
    "elo_columns = [\"elo_i\", \"elo_n\", \"opp_elo_i\", \"opp_elo_n\"]\n",
    "df.drop(elo_columns, inplace=True, axis=1)\n",
    "df.shape"
   ]
  },
  {
   "cell_type": "code",
   "execution_count": null,
   "id": "protected-palestine",
   "metadata": {},
   "outputs": [],
   "source": [
    "# Specifying Data Types\n",
    "df.info()"
   ]
  },
  {
   "cell_type": "code",
   "execution_count": null,
   "id": "decent-assembly",
   "metadata": {},
   "outputs": [],
   "source": [
    "df[\"date_game\"] = pd.to_datetime(df[\"date_game\"])\n",
    "df[\"date_game\"].head()"
   ]
  },
  {
   "cell_type": "code",
   "execution_count": null,
   "id": "comparable-porcelain",
   "metadata": {},
   "outputs": [],
   "source": [
    "df[\"game_location\"].nunique()"
   ]
  },
  {
   "cell_type": "code",
   "execution_count": null,
   "id": "continuing-laptop",
   "metadata": {},
   "outputs": [],
   "source": [
    "df[\"game_location\"].value_counts()"
   ]
  },
  {
   "cell_type": "code",
   "execution_count": null,
   "id": "sapphire-caribbean",
   "metadata": {},
   "outputs": [],
   "source": [
    "df[\"game_location\"] = pd.Categorical(df[\"game_location\"])"
   ]
  },
  {
   "cell_type": "code",
   "execution_count": null,
   "id": "effective-gasoline",
   "metadata": {},
   "outputs": [],
   "source": [
    "df[\"game_location\"].dtype"
   ]
  },
  {
   "cell_type": "code",
   "execution_count": null,
   "id": "careful-compound",
   "metadata": {},
   "outputs": [],
   "source": [
    "df.info()"
   ]
  },
  {
   "cell_type": "code",
   "execution_count": null,
   "id": "turned-archive",
   "metadata": {},
   "outputs": [],
   "source": [
    "df[\"game_result\"].nunique()\n",
    "df[\"game_result\"].value_counts()\n",
    "df[\"game_result\"] = pd.Categorical(df[\"game_result\"])\n",
    "df.info()"
   ]
  },
  {
   "cell_type": "code",
   "execution_count": null,
   "id": "clinical-nancy",
   "metadata": {},
   "outputs": [],
   "source": [
    "# Cleaning Data\n",
    "rows_without_missing_data = nba.dropna()\n",
    "rows_without_missing_data.shape"
   ]
  },
  {
   "cell_type": "code",
   "execution_count": null,
   "id": "unavailable-paper",
   "metadata": {},
   "outputs": [],
   "source": [
    "data_without_missing_columns = nba.dropna(axis=1)\n",
    "data_without_missing_columns.shape"
   ]
  },
  {
   "cell_type": "code",
   "execution_count": null,
   "id": "designing-offset",
   "metadata": {},
   "outputs": [],
   "source": [
    "# Replacing\n",
    "data_with_default_notes = nba.copy()\n",
    "data_with_default_notes[\"notes\"].fillna(\n",
    "    value=\"no notes at all\",\n",
    "    inplace=True\n",
    ")\n",
    "data_with_default_notes[\"notes\"].describe()"
   ]
  },
  {
   "cell_type": "code",
   "execution_count": null,
   "id": "extraordinary-stranger",
   "metadata": {},
   "outputs": [],
   "source": [
    "# Invalid values\n",
    "nba[nba[\"pts\"] == 0]"
   ]
  },
  {
   "cell_type": "code",
   "execution_count": null,
   "id": "textile-manner",
   "metadata": {},
   "outputs": [],
   "source": [
    "# Inconsistent Values\n",
    "\n",
    "print(nba[(nba[\"pts\"] > nba[\"opp_pts\"]) & (nba[\"game_result\"] != 'W')].empty)\n",
    "print(nba[(nba[\"pts\"] < nba[\"opp_pts\"]) & (nba[\"game_result\"] != 'L')].empty)"
   ]
  },
  {
   "cell_type": "code",
   "execution_count": null,
   "id": "arabic-edwards",
   "metadata": {},
   "outputs": [],
   "source": [
    "# Combining Multiple Datasets\n",
    "further_city_data = pd.DataFrame(\n",
    "    {\"revenue\": [7000, 3400], \"employee_count\":[2, 2]},\n",
    "    index=[\"New York\", \"Barcelona\"]\n",
    ")\n",
    "all_city_data = pd.concat([city_data, further_city_data], sort=False)\n",
    "all_city_data"
   ]
  },
  {
   "cell_type": "code",
   "execution_count": null,
   "id": "indian-richmond",
   "metadata": {},
   "outputs": [],
   "source": [
    "all_city_data = pd.concat([city_data, further_city_data], sort=False)\n",
    "all_city_data"
   ]
  },
  {
   "cell_type": "code",
   "execution_count": null,
   "id": "worthy-american",
   "metadata": {},
   "outputs": [],
   "source": [
    "city_countries = pd.DataFrame({\n",
    "    \"country\": [\"Holland\", \"Japan\", \"Holland\", \"Canada\", \"Spain\"],\n",
    "    \"capital\": [1, 1, 0, 0, 0]},\n",
    "    index=[\"Amsterdam\", \"Tokyo\", \"Rotterdam\", \"Toronto\", \"Barcelona\"]\n",
    ")\n",
    "cities = pd.concat([all_city_data, city_countries], axis=1, sort=False)\n",
    "cities"
   ]
  },
  {
   "cell_type": "code",
   "execution_count": null,
   "id": "annoying-investigator",
   "metadata": {},
   "outputs": [],
   "source": [
    "pd.concat([all_city_data, city_countries], axis=1, join=\"inner\")"
   ]
  },
  {
   "cell_type": "code",
   "execution_count": null,
   "id": "twenty-confidence",
   "metadata": {},
   "outputs": [],
   "source": [
    "countries = pd.DataFrame({\n",
    "    \"population_millions\": [17, 127, 37],\n",
    "    \"continent\": [\"Europe\", \"Asia\", \"North America\"]\n",
    "}, index= [\"Holland\", \"Japan\", \"Canada\"])\n",
    "pd.merge(cities, countries, left_on=\"country\", right_index=True)"
   ]
  },
  {
   "cell_type": "code",
   "execution_count": null,
   "id": "weekly-polls",
   "metadata": {},
   "outputs": [],
   "source": [
    "# inner join\n",
    "pd.merge(\n",
    "    cities,\n",
    "    countries,\n",
    "    left_on=\"country\",\n",
    "    right_index=True,\n",
    "    how=\"left\"\n",
    ")"
   ]
  },
  {
   "cell_type": "code",
   "execution_count": null,
   "id": "federal-absence",
   "metadata": {},
   "outputs": [],
   "source": [
    "# Visualizing Your Pandas DataFrame\n",
    "%matplotlib inline\n",
    "\n",
    "nba[nba[\"fran_id\"] == \"Knicks\"].groupby(\"year_id\")[\"pts\"].sum().plot()"
   ]
  },
  {
   "cell_type": "code",
   "execution_count": null,
   "id": "bottom-climate",
   "metadata": {},
   "outputs": [],
   "source": [
    "nba[\"fran_id\"].value_counts().head(10).plot(kind=\"bar\")"
   ]
  },
  {
   "cell_type": "code",
   "execution_count": null,
   "id": "outdoor-butter",
   "metadata": {},
   "outputs": [],
   "source": [
    "nba[\n",
    "    (nba[\"fran_id\"] == \"Heat\") &\n",
    "    (nba[\"year_id\"] == 2013)\n",
    "][\"game_result\"].value_counts().plot(kind=\"pie\")"
   ]
  },
  {
   "cell_type": "code",
   "execution_count": null,
   "id": "assured-quilt",
   "metadata": {},
   "outputs": [],
   "source": []
  }
 ],
 "metadata": {
  "kernelspec": {
   "display_name": "Python 3",
   "language": "python",
   "name": "python3"
  },
  "language_info": {
   "codemirror_mode": {
    "name": "ipython",
    "version": 3
   },
   "file_extension": ".py",
   "mimetype": "text/x-python",
   "name": "python",
   "nbconvert_exporter": "python",
   "pygments_lexer": "ipython3",
   "version": "3.7.8"
  }
 },
 "nbformat": 4,
 "nbformat_minor": 5
}
